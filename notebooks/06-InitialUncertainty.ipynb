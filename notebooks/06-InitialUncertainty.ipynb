{
 "cells": [
  {
   "cell_type": "code",
   "execution_count": 4,
   "metadata": {},
   "outputs": [],
   "source": [
    "from jax import jit, random, numpy as jnp\n",
    "from lqg.tracking import BoundedActor\n",
    "import matplotlib.pyplot as plt\n",
    "from ipywidgets import interact, FloatLogSlider\n",
    "\n",
    "dt = 1. / 60.\n",
    "duration = 2.5\n",
    "T = int(duration / dt)\n",
    "\n",
    "model = BoundedActor(c=0.5, motor_noise=0.5, sigma=60., T=T)\n",
    "\n",
    "@jit\n",
    "def simulate(init_std=1.):\n",
    "    x = model.simulate(random.PRNGKey(0), n=20, Sigma0=jnp.diag(jnp.array([init_std, 0.5])**2))\n",
    "\n",
    "    return x"
   ]
  },
  {
   "cell_type": "code",
   "execution_count": 5,
   "metadata": {},
   "outputs": [
    {
     "data": {
      "application/vnd.jupyter.widget-view+json": {
       "model_id": "47eeed28729b4a8ba36ae1722ab69dac",
       "version_major": 2,
       "version_minor": 0
      },
      "text/plain": [
       "interactive(children=(FloatLogSlider(value=1.0, description='init_std', max=2.0, min=-2.0), Output()), _dom_cl…"
      ]
     },
     "metadata": {},
     "output_type": "display_data"
    }
   ],
   "source": [
    "@interact(init_std=FloatLogSlider(value=1., min=-2, max=2))\n",
    "def plot(init_std):\n",
    "\n",
    "    x = simulate(init_std=init_std)\n",
    "\n",
    "    plt.plot(x[0,:,0])\n",
    "    plt.plot(x[0,:,1])\n",
    "    \n",
    "    print(jnp.sum((x[..., 0] - x[..., 1])**2))\n"
   ]
  },
  {
   "cell_type": "code",
   "execution_count": null,
   "metadata": {},
   "outputs": [],
   "source": []
  }
 ],
 "metadata": {
  "kernelspec": {
   "display_name": "Python 3 (ipykernel)",
   "language": "python",
   "name": "python3"
  },
  "language_info": {
   "codemirror_mode": {
    "name": "ipython",
    "version": 3
   },
   "file_extension": ".py",
   "mimetype": "text/x-python",
   "name": "python",
   "nbconvert_exporter": "python",
   "pygments_lexer": "ipython3",
   "version": "3.10.10"
  }
 },
 "nbformat": 4,
 "nbformat_minor": 1
}
