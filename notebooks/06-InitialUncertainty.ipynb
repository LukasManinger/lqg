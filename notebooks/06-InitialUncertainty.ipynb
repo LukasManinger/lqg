{
 "cells": [
  {
   "cell_type": "code",
   "execution_count": 7,
   "metadata": {},
   "outputs": [],
   "source": [
    "from jax import jit, random, numpy as jnp\n",
    "from lqg.tracking import BoundedActor\n",
    "import matplotlib.pyplot as plt\n",
    "from ipywidgets import interact, FloatLogSlider"
   ]
  },
  {
   "cell_type": "markdown",
   "metadata": {},
   "source": [
    "## Influence of initial uncertainty\n",
    "Starting with an initial belief $p(x_0) = \\mathcal{N}(\\hat x_0, \\Sigma_0)$, we can compute the next belief $p(x_{t+1} | y_{1:t }) = \\mathcal{N}(\\hat x_{t+1}, \\Sigma_{t+1})$ using the Kalman filter udpate equations\n",
    "\n",
    "$$\\hat{{x}}_{t+1} = A_t \\hat{{x}}_t + B_t {u}_t + K_t ({y}_t - H_t \\hat {x}_t ), \\\\\n",
    "\\Sigma_{t+1} = (A_t - K_t H_t) \\Sigma_t A_t^T + V_t V_t^T,\n",
    "$$\n",
    "\n",
    "\n",
    "Here, we are interested in the effect of changing the initial uncertainty $\\Sigma_0$ on tracking behavior. We use the bounded actor model from our eLife paper (Straub & Rothkopf, 2022).\n",
    "\n",
    "By changing the initial uncertainty about the target position, we can change the agent's behavior, especially in the beginning of the trial. The idea is to run an experiment in which we first let people train in different environments, in which there is either high or low uncertainty about the initial target position. After having them learn the distribution of initial target positions, we assume that they use this as their initial uncertainty in the Kalman filter. We then test them both in the same environment, e.g. one in which the target always starts in the middle and see whether their initial belief about the target position has an effect on their behavior.\n",
    "\n",
    "The effect of this is probably different depending on the other parameters of the model:\n",
    "\n",
    "- cost $c$\n",
    "- motor noise $\\sigma_c$\n",
    "- and especially perceptual uncertainty $\\sigma$\n",
    "\n",
    "The goal in this notebook is to find out which summary statistics (tracking errors, cross-correlation etc.) of the tracking data might be affected by the initital uncertainty."
   ]
  },
  {
   "cell_type": "code",
   "execution_count": 11,
   "metadata": {
    "tags": []
   },
   "outputs": [],
   "source": [
    "dt = 1. / 60.\n",
    "duration = 2.5\n",
    "T = int(duration / dt)"
   ]
  },
  {
   "cell_type": "code",
   "execution_count": 12,
   "metadata": {
    "tags": []
   },
   "outputs": [],
   "source": [
    "model = BoundedActor(c=0.5, motor_noise=0.5, sigma=60., T=T)\n",
    "\n",
    "@jit\n",
    "def simulate(init_std=1.):\n",
    "    x = model.simulate(random.PRNGKey(0), n=20, Sigma0=jnp.diag(jnp.array([init_std, 0.5])**2))\n",
    "\n",
    "    return x"
   ]
  },
  {
   "cell_type": "code",
   "execution_count": 13,
   "metadata": {},
   "outputs": [
    {
     "data": {
      "application/vnd.jupyter.widget-view+json": {
       "model_id": "218b2b9db3e54758bee9a539e3215b5c",
       "version_major": 2,
       "version_minor": 0
      },
      "text/plain": [
       "interactive(children=(FloatLogSlider(value=1.0, description='init_std', max=2.0, min=-2.0), Output()), _dom_cl…"
      ]
     },
     "metadata": {},
     "output_type": "display_data"
    }
   ],
   "source": [
    "@interact(init_std=FloatLogSlider(value=1., min=-2, max=2))\n",
    "def plot(init_std):\n",
    "\n",
    "    x = simulate(init_std=init_std)\n",
    "\n",
    "    plt.plot(x[0,:,0])\n",
    "    plt.plot(x[0,:,1])\n",
    "    \n",
    "    print(jnp.sum((x[..., 0] - x[..., 1])**2))\n"
   ]
  },
  {
   "cell_type": "code",
   "execution_count": null,
   "metadata": {},
   "outputs": [],
   "source": []
  }
 ],
 "metadata": {
  "kernelspec": {
   "display_name": "Python 3 (ipykernel)",
   "language": "python",
   "name": "python3"
  },
  "language_info": {
   "codemirror_mode": {
    "name": "ipython",
    "version": 3
   },
   "file_extension": ".py",
   "mimetype": "text/x-python",
   "name": "python",
   "nbconvert_exporter": "python",
   "pygments_lexer": "ipython3",
   "version": "3.10.10"
  }
 },
 "nbformat": 4,
 "nbformat_minor": 4
}
